{
 "cells": [
  {
   "cell_type": "code",
   "execution_count": 9,
   "id": "b2822a86-1657-4944-a5d3-d11154319f49",
   "metadata": {},
   "outputs": [],
   "source": [
    "def algoritmo_a_star(graph):\n",
    "         #El resultado para este ejemplo debera ser el siguiente:\n",
    "    node_list = []\n",
    "    best_length = 100000\n",
    "    best_path = []\n",
    "  \n",
    "    node_list.append([graph[0][0], 0, []])\n",
    "\n",
    "    while len(node_list) > 0:\n",
    "        tmpNode = node_list.pop(0)\n",
    "        acualpath = tmpNode[2].copy()\n",
    "        acualpath.append(tmpNode[0])\n",
    "        #Si el largo supera al más corto actual pasa al siguiente nodo en node_list\n",
    "        if tmpNode[0] == \"G\":\n",
    "            if tmpNode[1] < best_length:\n",
    "                best_length = tmpNode[1]\n",
    "                best_path = acualpath.copy()\n",
    "        for path in graph:\n",
    "            if path[0] == tmpNode[0]:\n",
    "                tmp = []\n",
    "                tmp.append(path[1])\n",
    "                tmp.append(path[2] + tmpNode[1])\n",
    "                tmp.append(acualpath)\n",
    "                node_list.append(tmp)\n",
    "       \n",
    "        \n",
    "    print(f\"Recorrido más corto {best_length}\")\n",
    "    print(f\"Camino más corto {best_path}\")\n",
    "    \n",
    "    return (best_length, best_path)"
   ]
  },
  {
   "cell_type": "code",
   "execution_count": 10,
   "id": "a3aede72-05eb-423d-85e6-a18ea5752bd0",
   "metadata": {},
   "outputs": [
    {
     "name": "stdout",
     "output_type": "stream",
     "text": [
      "Recorrido más corto 5\n",
      "Camino más corto ['S', 'A', 'D', 'G']\n"
     ]
    }
   ],
   "source": [
    "#Si el graph es el siguiente:\n",
    "graph = [(\"S\", \"A\",2), (\"S\", \"B\", 3), (\"A\", \"C\", 4),\n",
    "         (\"A\", \"D\", 2), (\"B\", \"E\", 4), (\"B\", \"H\", 1), (\"E\", \"G\", 2), (\"H\", \"G\", 3), (\"D\", \"G\", 1)]\n",
    "best_length, best_path = algoritmo_a_star(graph)"
   ]
  },
  {
   "cell_type": "code",
   "execution_count": null,
   "id": "2f3e7f5b-dc5c-40fd-a636-78978c9c19e6",
   "metadata": {},
   "outputs": [],
   "source": []
  }
 ],
 "metadata": {
  "kernelspec": {
   "display_name": "Python 3.10.8 64-bit",
   "language": "python",
   "name": "python3"
  },
  "language_info": {
   "codemirror_mode": {
    "name": "ipython",
    "version": 3
   },
   "file_extension": ".py",
   "mimetype": "text/x-python",
   "name": "python",
   "nbconvert_exporter": "python",
   "pygments_lexer": "ipython3",
   "version": "3.10.8"
  },
  "vscode": {
   "interpreter": {
    "hash": "e7370f93d1d0cde622a1f8e1c04877d8463912d04d973331ad4851f04de6915a"
   }
  }
 },
 "nbformat": 4,
 "nbformat_minor": 5
}
